{
 "cells": [
  {
   "cell_type": "markdown",
   "metadata": {},
   "source": [
    "## From Landmarks to Animations\n",
    "\n",
    "Víctor Ubieto | 2022\n",
    "\n",
    "victoremilio.ubieto@upf.edu // victor.ubieto@e-campus.uab.cat"
   ]
  },
  {
   "cell_type": "code",
   "execution_count": 13,
   "metadata": {
    "pycharm": {
     "name": "#%%\n"
    },
    "scrolled": true
   },
   "outputs": [],
   "source": [
    "import os\n",
    "import json\n",
    "import math\n",
    "import graphviz\n",
    "import tensorflowjs as tfjs\n",
    "import matplotlib.pyplot as plt\n",
    "from tensorflow.keras import layers\n",
    "from tensorflow.keras import optimizers\n",
    "from tensorflow.keras.callbacks import LearningRateScheduler\n",
    "from tensorflow.keras.models import Sequential\n",
    "from tensorflow.keras.utils import plot_model\n",
    "from keras.models import load_model\n",
    "from sklearn.model_selection import train_test_split"
   ]
  },
  {
   "cell_type": "markdown",
   "metadata": {},
   "source": [
    "Let us first read the train and test files"
   ]
  },
  {
   "cell_type": "code",
   "execution_count": 2,
   "metadata": {},
   "outputs": [
    {
     "name": "stdout",
     "output_type": "stream",
     "text": [
      "2051\n",
      "2051\n"
     ]
    }
   ],
   "source": [
    "train_data_dir = \"E:\\Documents\\Projects\\PycharmCurrent\\Dataset\"\n",
    "train_data_dir_gt = \"E:\\Documents\\Projects\\PycharmCurrent\\Dataset\\gt\"\n",
    "data = []\n",
    "gt_data = []\n",
    "\n",
    "os.chdir(train_data_dir)\n",
    "for file in os.listdir():\n",
    "    if file.endswith(\".json\"):\n",
    "        with open(file, 'r') as f:\n",
    "            d = json.load(f)  # returns JSON object as a dictionary\n",
    "            data = data + d\n",
    "\n",
    "os.chdir(train_data_dir_gt)\n",
    "for file in os.listdir():\n",
    "    with open(file, 'r') as f:\n",
    "        d = json.load(f)\n",
    "        gt_data = gt_data + d\n",
    "\n",
    "print(len(data)) # check data is something\n",
    "print(len(gt_data)) # check data is something"
   ]
  },
  {
   "cell_type": "markdown",
   "metadata": {},
   "source": [
    "Hyperparameters definition"
   ]
  },
  {
   "cell_type": "code",
   "execution_count": 3,
   "metadata": {
    "scrolled": false
   },
   "outputs": [],
   "source": [
    "n_epochs = 50\n",
    "batch_size = 40\n",
    "init_lr = 0.01\n",
    "decay_stp = 10000\n",
    "decay_rt = 0.9\n",
    "\n",
    "#def step_decay(epoch):\n",
    "#   initial_lrate = 0.001\n",
    "#   drop = 0.5\n",
    "#   epochs_drop = 50.0\n",
    "#   lrate = initial_lrate * math.pow(drop, math.floor((1+epoch)/epochs_drop))\n",
    "#   return lrate\n",
    "#lr_scheduler = LearningRateScheduler(step_decay)\n",
    "\n",
    "lr_rate = optimizers.schedules.ExponentialDecay(\n",
    "    initial_learning_rate=init_lr,\n",
    "    decay_steps=decay_stp,\n",
    "    decay_rate=decay_rt)\n",
    "\n",
    "#optimizer = optimizers.Adam(learning_rate=0.0001)\n",
    "optimizer = optimizers.Adamax(learning_rate=lr_rate)\n",
    "\n",
    "#callbacks_list = [lr_scheduler]"
   ]
  },
  {
   "cell_type": "markdown",
   "metadata": {},
   "source": [
    "Data preparation + data preprocessing, normalization?\n",
    "\n",
    "Divide data in train-val-test"
   ]
  },
  {
   "cell_type": "code",
   "execution_count": 4,
   "metadata": {
    "pycharm": {
     "name": "#%%\n"
    }
   },
   "outputs": [],
   "source": [
    "X_train, x_test, Y_train, y_test = train_test_split(data, gt_data, test_size=0.2)\n",
    "x_train, x_val, y_train, y_val = train_test_split(X_train, Y_train, test_size=0.25)  # 0.25 x 0.8 = 0.2\n",
    "x_length = len(x_train[0])\n",
    "y_length = len(y_train[0])"
   ]
  },
  {
   "cell_type": "markdown",
   "metadata": {
    "pycharm": {
     "name": "#%% md\n"
    }
   },
   "source": [
    "Model creation (https://www.tensorflow.org/tutorials/keras/regression)"
   ]
  },
  {
   "cell_type": "code",
   "execution_count": 5,
   "metadata": {
    "pycharm": {
     "name": "#%%\n"
    }
   },
   "outputs": [
    {
     "name": "stdout",
     "output_type": "stream",
     "text": [
      "Model: \"sequential\"\n",
      "_________________________________________________________________\n",
      " Layer (type)                Output Shape              Param #   \n",
      "=================================================================\n",
      " layer_normalization (LayerN  (None, 225)              450       \n",
      " ormalization)                                                   \n",
      "                                                                 \n",
      " layer1 (Dense)              (None, 256)               57856     \n",
      "                                                                 \n",
      " layer2 (Dense)              (None, 512)               131584    \n",
      "                                                                 \n",
      " layer3 (Dense)              (None, 1024)              525312    \n",
      "                                                                 \n",
      " layer4 (Dense)              (None, 512)               524800    \n",
      "                                                                 \n",
      " layer_out (Dense)           (None, 208)               106704    \n",
      "                                                                 \n",
      "=================================================================\n",
      "Total params: 1,346,706\n",
      "Trainable params: 1,346,706\n",
      "Non-trainable params: 0\n",
      "_________________________________________________________________\n"
     ]
    }
   ],
   "source": [
    "model = Sequential()\n",
    "model.add(layers.LayerNormalization(input_dim=x_length))\n",
    "model.add(layers.Dense(256, activation=\"relu\", name=\"layer1\"))\n",
    "model.add(layers.Dense(512, activation='relu', name=\"layer2\"))\n",
    "model.add(layers.Dense(1024, activation='relu', name=\"layer3\"))\n",
    "model.add(layers.Dense(512, activation='relu', name=\"layer4\"))\n",
    "model.add(layers.Dense(y_length, activation='linear', name=\"layer_out\"))\n",
    "\n",
    "model.compile(loss='mean_squared_error', optimizer=optimizer, metrics=['accuracy'])\n",
    "model.summary()\n",
    "#plot_model(model, to_file='model.png', show_shapes=True, show_layer_names=True)"
   ]
  },
  {
   "cell_type": "markdown",
   "metadata": {},
   "source": [
    "Training step"
   ]
  },
  {
   "cell_type": "code",
   "execution_count": 6,
   "metadata": {
    "pycharm": {
     "name": "#%%\n"
    }
   },
   "outputs": [
    {
     "name": "stdout",
     "output_type": "stream",
     "text": [
      "Epoch 1/50\n",
      "31/31 [==============================] - 2s 28ms/step - loss: 12.6372 - accuracy: 0.0211 - val_loss: 0.0121 - val_accuracy: 0.0000e+00\n",
      "Epoch 2/50\n",
      "31/31 [==============================] - 0s 6ms/step - loss: 0.0108 - accuracy: 0.0146 - val_loss: 0.0108 - val_accuracy: 0.1293\n",
      "Epoch 3/50\n",
      "31/31 [==============================] - 0s 6ms/step - loss: 0.0102 - accuracy: 0.1154 - val_loss: 0.0103 - val_accuracy: 0.0585\n",
      "Epoch 4/50\n",
      "31/31 [==============================] - 0s 5ms/step - loss: 0.0094 - accuracy: 0.1358 - val_loss: 0.0094 - val_accuracy: 0.2000\n",
      "Epoch 5/50\n",
      "31/31 [==============================] - 0s 6ms/step - loss: 0.0088 - accuracy: 0.1504 - val_loss: 0.0089 - val_accuracy: 0.1561\n",
      "Epoch 6/50\n",
      "31/31 [==============================] - 0s 6ms/step - loss: 0.0084 - accuracy: 0.1821 - val_loss: 0.0085 - val_accuracy: 0.1439\n",
      "Epoch 7/50\n",
      "31/31 [==============================] - 0s 6ms/step - loss: 0.0081 - accuracy: 0.1537 - val_loss: 0.0084 - val_accuracy: 0.0732\n",
      "Epoch 8/50\n",
      "31/31 [==============================] - 0s 6ms/step - loss: 0.0079 - accuracy: 0.1081 - val_loss: 0.0081 - val_accuracy: 0.1415\n",
      "Epoch 9/50\n",
      "31/31 [==============================] - 0s 6ms/step - loss: 0.0076 - accuracy: 0.0764 - val_loss: 0.0079 - val_accuracy: 0.0244\n",
      "Epoch 10/50\n",
      "31/31 [==============================] - 0s 6ms/step - loss: 0.0074 - accuracy: 0.0325 - val_loss: 0.0076 - val_accuracy: 0.0854\n",
      "Epoch 11/50\n",
      "31/31 [==============================] - 0s 5ms/step - loss: 0.0071 - accuracy: 0.0398 - val_loss: 0.0072 - val_accuracy: 0.0780\n",
      "Epoch 12/50\n",
      "31/31 [==============================] - 0s 5ms/step - loss: 0.0066 - accuracy: 0.0472 - val_loss: 0.0067 - val_accuracy: 0.0341\n",
      "Epoch 13/50\n",
      "31/31 [==============================] - 0s 5ms/step - loss: 0.0057 - accuracy: 0.0439 - val_loss: 0.0059 - val_accuracy: 0.0268\n",
      "Epoch 14/50\n",
      "31/31 [==============================] - 0s 5ms/step - loss: 0.0046 - accuracy: 0.0488 - val_loss: 0.0053 - val_accuracy: 0.0537\n",
      "Epoch 15/50\n",
      "31/31 [==============================] - 0s 5ms/step - loss: 0.0043 - accuracy: 0.0691 - val_loss: 0.0052 - val_accuracy: 0.0854\n",
      "Epoch 16/50\n",
      "31/31 [==============================] - 0s 6ms/step - loss: 0.0041 - accuracy: 0.0967 - val_loss: 0.0048 - val_accuracy: 0.0732\n",
      "Epoch 17/50\n",
      "31/31 [==============================] - 0s 6ms/step - loss: 0.0040 - accuracy: 0.0902 - val_loss: 0.0051 - val_accuracy: 0.0366\n",
      "Epoch 18/50\n",
      "31/31 [==============================] - 0s 5ms/step - loss: 0.0040 - accuracy: 0.1154 - val_loss: 0.0046 - val_accuracy: 0.1073\n",
      "Epoch 19/50\n",
      "31/31 [==============================] - 0s 5ms/step - loss: 0.0037 - accuracy: 0.0894 - val_loss: 0.0046 - val_accuracy: 0.0756\n",
      "Epoch 20/50\n",
      "31/31 [==============================] - 0s 5ms/step - loss: 0.0037 - accuracy: 0.1016 - val_loss: 0.0045 - val_accuracy: 0.2415\n",
      "Epoch 21/50\n",
      "31/31 [==============================] - 0s 5ms/step - loss: 0.0036 - accuracy: 0.1122 - val_loss: 0.0045 - val_accuracy: 0.1707\n",
      "Epoch 22/50\n",
      "31/31 [==============================] - 0s 5ms/step - loss: 0.0036 - accuracy: 0.0959 - val_loss: 0.0044 - val_accuracy: 0.1976\n",
      "Epoch 23/50\n",
      "31/31 [==============================] - 0s 6ms/step - loss: 0.0034 - accuracy: 0.1130 - val_loss: 0.0042 - val_accuracy: 0.2000\n",
      "Epoch 24/50\n",
      "31/31 [==============================] - 0s 6ms/step - loss: 0.0033 - accuracy: 0.1260 - val_loss: 0.0044 - val_accuracy: 0.0610\n",
      "Epoch 25/50\n",
      "31/31 [==============================] - 0s 7ms/step - loss: 0.0032 - accuracy: 0.0902 - val_loss: 0.0040 - val_accuracy: 0.1220\n",
      "Epoch 26/50\n",
      "31/31 [==============================] - 0s 6ms/step - loss: 0.0031 - accuracy: 0.1301 - val_loss: 0.0040 - val_accuracy: 0.0805\n",
      "Epoch 27/50\n",
      "31/31 [==============================] - 0s 6ms/step - loss: 0.0031 - accuracy: 0.1106 - val_loss: 0.0039 - val_accuracy: 0.1122\n",
      "Epoch 28/50\n",
      "31/31 [==============================] - 0s 6ms/step - loss: 0.0031 - accuracy: 0.0984 - val_loss: 0.0040 - val_accuracy: 0.1049\n",
      "Epoch 29/50\n",
      "31/31 [==============================] - 0s 6ms/step - loss: 0.0028 - accuracy: 0.1244 - val_loss: 0.0036 - val_accuracy: 0.0585\n",
      "Epoch 30/50\n",
      "31/31 [==============================] - 0s 5ms/step - loss: 0.0029 - accuracy: 0.1049 - val_loss: 0.0036 - val_accuracy: 0.0366\n",
      "Epoch 31/50\n",
      "31/31 [==============================] - 0s 5ms/step - loss: 0.0027 - accuracy: 0.0992 - val_loss: 0.0035 - val_accuracy: 0.1000\n",
      "Epoch 32/50\n",
      "31/31 [==============================] - 0s 5ms/step - loss: 0.0026 - accuracy: 0.0878 - val_loss: 0.0037 - val_accuracy: 0.0561\n",
      "Epoch 33/50\n",
      "31/31 [==============================] - 0s 6ms/step - loss: 0.0027 - accuracy: 0.1179 - val_loss: 0.0036 - val_accuracy: 0.0366\n",
      "Epoch 34/50\n",
      "31/31 [==============================] - 0s 6ms/step - loss: 0.0026 - accuracy: 0.0805 - val_loss: 0.0034 - val_accuracy: 0.0415\n",
      "Epoch 35/50\n",
      "31/31 [==============================] - 0s 6ms/step - loss: 0.0025 - accuracy: 0.0797 - val_loss: 0.0034 - val_accuracy: 0.0683\n",
      "Epoch 36/50\n",
      "31/31 [==============================] - 0s 6ms/step - loss: 0.0026 - accuracy: 0.1098 - val_loss: 0.0035 - val_accuracy: 0.2000\n",
      "Epoch 37/50\n",
      "31/31 [==============================] - 0s 6ms/step - loss: 0.0025 - accuracy: 0.1374 - val_loss: 0.0032 - val_accuracy: 0.0927\n",
      "Epoch 38/50\n",
      "31/31 [==============================] - 0s 7ms/step - loss: 0.0026 - accuracy: 0.0894 - val_loss: 0.0034 - val_accuracy: 0.1341\n",
      "Epoch 39/50\n",
      "31/31 [==============================] - 0s 6ms/step - loss: 0.0025 - accuracy: 0.0862 - val_loss: 0.0032 - val_accuracy: 0.0951\n",
      "Epoch 40/50\n",
      "31/31 [==============================] - 0s 6ms/step - loss: 0.0024 - accuracy: 0.1309 - val_loss: 0.0033 - val_accuracy: 0.0561\n",
      "Epoch 41/50\n",
      "31/31 [==============================] - 0s 6ms/step - loss: 0.0023 - accuracy: 0.0911 - val_loss: 0.0031 - val_accuracy: 0.1000\n",
      "Epoch 42/50\n",
      "31/31 [==============================] - 0s 7ms/step - loss: 0.0022 - accuracy: 0.1285 - val_loss: 0.0031 - val_accuracy: 0.1366\n",
      "Epoch 43/50\n",
      "31/31 [==============================] - 0s 5ms/step - loss: 0.0024 - accuracy: 0.1106 - val_loss: 0.0033 - val_accuracy: 0.0756\n",
      "Epoch 44/50\n",
      "31/31 [==============================] - 0s 6ms/step - loss: 0.0023 - accuracy: 0.1211 - val_loss: 0.0031 - val_accuracy: 0.0927\n",
      "Epoch 45/50\n",
      "31/31 [==============================] - 0s 5ms/step - loss: 0.0022 - accuracy: 0.1309 - val_loss: 0.0029 - val_accuracy: 0.0463\n",
      "Epoch 46/50\n",
      "31/31 [==============================] - 0s 6ms/step - loss: 0.0022 - accuracy: 0.1252 - val_loss: 0.0036 - val_accuracy: 0.0756\n",
      "Epoch 47/50\n",
      "31/31 [==============================] - 0s 6ms/step - loss: 0.0025 - accuracy: 0.1179 - val_loss: 0.0032 - val_accuracy: 0.1902\n",
      "Epoch 48/50\n",
      "31/31 [==============================] - 0s 6ms/step - loss: 0.0022 - accuracy: 0.1098 - val_loss: 0.0031 - val_accuracy: 0.1171\n",
      "Epoch 49/50\n",
      "31/31 [==============================] - 0s 7ms/step - loss: 0.0021 - accuracy: 0.1260 - val_loss: 0.0029 - val_accuracy: 0.0366\n",
      "Epoch 50/50\n",
      "31/31 [==============================] - 0s 7ms/step - loss: 0.0020 - accuracy: 0.1398 - val_loss: 0.0030 - val_accuracy: 0.0756\n"
     ]
    }
   ],
   "source": [
    "history = model.fit(x_train, y_train,\n",
    "                batch_size=batch_size,\n",
    "                epochs=n_epochs,\n",
    "                validation_data=(x_val, y_val),\n",
    "                #callbacks=callbacks_list\n",
    "                )"
   ]
  },
  {
   "cell_type": "markdown",
   "metadata": {},
   "source": [
    "Evaluation\n",
    "\n",
    "(Refination, hyperparameter tuning)?"
   ]
  },
  {
   "cell_type": "code",
   "execution_count": 7,
   "metadata": {
    "pycharm": {
     "name": "#%%\n"
    }
   },
   "outputs": [
    {
     "name": "stdout",
     "output_type": "stream",
     "text": [
      "#Train Data#     Loss: 0.00211    Accuracy: 8.13\n",
      "#Test  Data#     Loss: 0.00219    Accuracy: 6.33\n"
     ]
    },
    {
     "data": {
      "image/png": "[encoded data removed]",
      "text/plain": [
       "<Figure size 1080x360 with 2 Axes>"
      ]
     },
     "metadata": {
      "needs_background": "light"
     },
     "output_type": "display_data"
    },
    {
     "name": "stdout",
     "output_type": "stream",
     "text": [
      "Epochs: 50    Batch Size: 40    Optimitzer: Adamax    Init LR: 0.01    Decay Step: 10000    Decay Rate: 0.9\n"
     ]
    }
   ],
   "source": [
    "train_mse = model.evaluate(x_train, y_train, verbose=0)\n",
    "test_mse = model.evaluate(x_test, y_test, batch_size=batch_size, verbose=0)\n",
    "print('#Train Data#     Loss: %.5f' % train_mse[0] + '    Accuracy: %.2f' % (train_mse[1]*100))\n",
    "print('#Test  Data#     Loss: %.5f' % test_mse[0]  + '    Accuracy: %.2f' % (test_mse[1]*100))\n",
    "\n",
    "# Plots\n",
    "fig = plt.figure(figsize=(15, 5))\n",
    "ax1 = fig.add_subplot(121)\n",
    "ax2 = fig.add_subplot(122)\n",
    "\n",
    "# Summarize history for accuracy\n",
    "ax1.plot(history.history['accuracy'])\n",
    "ax1.plot(history.history['val_accuracy'])\n",
    "ax1.title.set_text('model accuracy')\n",
    "ax1.set_ylabel('accuracy')\n",
    "ax1.set_xlabel('epoch')\n",
    "ax1.legend(['train', 'validation'], loc='upper left')\n",
    "\n",
    "# Summarize history for loss\n",
    "ax2.plot(history.history['loss'])\n",
    "ax2.plot(history.history['val_loss'])\n",
    "ax2.title.set_text('model loss')\n",
    "ax2.set_ylabel('loss')\n",
    "ax2.set_xlabel('epoch')\n",
    "ax2.legend(['train', 'validation'], loc='upper left')\n",
    "\n",
    "plt.show()\n",
    "plt.savefig('accuracy.jpg')\n",
    "plt.close()\n",
    "\n",
    "print('Epochs: ' + str(n_epochs) + '    Batch Size: ' + str(batch_size) + '    Optimitzer: ' + str(optimizer._name)\n",
    "      + '    Init LR: ' + str(init_lr) + '    Decay Step: ' + str(decay_stp) + '    Decay Rate: ' + str(decay_rt))"
   ]
  },
  {
   "cell_type": "markdown",
   "metadata": {},
   "source": [
    "Store the Model"
   ]
  },
  {
   "cell_type": "code",
   "execution_count": 14,
   "metadata": {
    "pycharm": {
     "name": "#%%\n"
    }
   },
   "outputs": [],
   "source": [
    "# Serialize model to JSON\n",
    "model_json = model.to_json()\n",
    "with open(\"E:\\Documents\\Projects\\PycharmCurrent\\MLmodel.json\", \"w\") as json_file:\n",
    "    json_file.write(model_json)\n",
    "tfjs.converters.save_keras_model(model, \"E:\\Documents\\Projects\\PycharmCurrent\\MLstuff\")"
   ]
  },
  {
   "cell_type": "markdown",
   "metadata": {},
   "source": [
    "FUTURE TASKS CODE"
   ]
  },
  {
   "cell_type": "code",
   "execution_count": null,
   "metadata": {
    "pycharm": {
     "name": "#%%\n"
    }
   },
   "outputs": [],
   "source": [
    "# Compute and store the result\n",
    "# TODO Use the data from the webcam\n",
    "result = model.predict(x_test, batch_size=batch_size)\n",
    "\n",
    "with open(\"results.json\", 'w') as file:\n",
    "    json.dump(result.tolist(), file, indent=4)\n",
    "\n",
    "# Save the model\n",
    "filepath = 'saved_model'\n",
    "model.save(filepath)\n",
    "\n",
    "# Load the model\n",
    "model = load_model(filepath, compile = True)"
   ]
  }
 ],
 "metadata": {
  "kernelspec": {
   "display_name": "Python 3",
   "language": "python",
   "name": "python3"
  },
  "language_info": {
   "codemirror_mode": {
    "name": "ipython",
    "version": 3
   },
   "file_extension": ".py",
   "mimetype": "text/x-python",
   "name": "python",
   "nbconvert_exporter": "python",
   "pygments_lexer": "ipython3",
   "version": "3.8.8"
  }
 },
 "nbformat": 4,
 "nbformat_minor": 2
}